{
  "nbformat": 4,
  "nbformat_minor": 0,
  "metadata": {
    "colab": {
      "name": "anomaly_detection.ipynb",
      "provenance": [],
      "collapsed_sections": [],
      "authorship_tag": "ABX9TyMQAvRbUOt5U59wS/nG+hYw",
      "include_colab_link": true
    },
    "kernelspec": {
      "name": "python3",
      "display_name": "Python 3"
    },
    "language_info": {
      "name": "python"
    }
  },
  "cells": [
    {
      "cell_type": "markdown",
      "metadata": {
        "id": "view-in-github",
        "colab_type": "text"
      },
      "source": [
        "<a href=\"https://colab.research.google.com/github/6yuvaldavid/Anomaly-Detection/blob/main/anomaly_detection.ipynb\" target=\"_parent\"><img src=\"https://colab.research.google.com/assets/colab-badge.svg\" alt=\"Open In Colab\"/></a>"
      ]
    },
    {
      "cell_type": "code",
      "metadata": {
        "id": "UMs1ZxakL5li"
      },
      "source": [
        "import numpy as np\n",
        "import pandas as pd\n",
        "import tensorflow as tf\n",
        "import matplotlib.pyplot as plt\n",
        "from sklearn.metrics import accuracy_score, precision_score, recall_score\n",
        "from tensorflow.keras.optimizers import Adam\n",
        "from sklearn.preprocessing import MinMaxScaler\n",
        "from tensorflow.keras import Model, Sequential\n",
        "from tensorflow.keras.layers import Dense, Dropout\n",
        "from sklearn.model_selection import train_test_split\n",
        "from tensorflow.keras.losses import MeanSquaredLogarithmicError\n",
        "import os\n",
        "import PIL\n",
        "import PIL.Image\n",
        "import tensorflow_datasets as tfds\n",
        "\n",
        "%matplotlib inline\n",
        "from tensorflow.keras import layers, losses\n",
        "from tensorflow.keras.models import Model"
      ],
      "execution_count": 1,
      "outputs": []
    },
    {
      "cell_type": "code",
      "metadata": {
        "id": "h6wNPlZnRmqq"
      },
      "source": [
        "img_height = 28\n",
        "img_width = 28\n",
        "batch_size = 30"
      ],
      "execution_count": 2,
      "outputs": []
    },
    {
      "cell_type": "code",
      "metadata": {
        "id": "8EvT_Q1bMJMP"
      },
      "source": [
        "import pathlib\n",
        "data_dir = 'data'\n",
        "data_dir = pathlib.Path(data_dir)"
      ],
      "execution_count": 3,
      "outputs": []
    },
    {
      "cell_type": "code",
      "metadata": {
        "colab": {
          "base_uri": "https://localhost:8080/"
        },
        "id": "g9UCIpeTNbRM",
        "outputId": "46fee6b3-a2bd-4612-9b1b-1e9a5b563b0d"
      },
      "source": [
        "image_count = len(list(data_dir.glob('*.png')))\n",
        "print(image_count)"
      ],
      "execution_count": 4,
      "outputs": [
        {
          "output_type": "stream",
          "name": "stdout",
          "text": [
            "100\n"
          ]
        }
      ]
    },
    {
      "cell_type": "code",
      "metadata": {
        "colab": {
          "base_uri": "https://localhost:8080/",
          "height": 45
        },
        "id": "c8elLHALNezj",
        "outputId": "47d4eb6b-cdd7-4ef2-cfd7-468a3dae6a7c"
      },
      "source": [
        "roses = list(data_dir.glob('*.png'))\n",
        "PIL.Image.open(str(roses[1]))"
      ],
      "execution_count": 5,
      "outputs": [
        {
          "output_type": "execute_result",
          "data": {
            "image/png": "[encoded data removed]",
            "text/plain": [
              "<PIL.PngImagePlugin.PngImageFile image mode=L size=28x28 at 0x7F2A1326DAD0>"
            ]
          },
          "metadata": {},
          "execution_count": 5
        }
      ]
    },
    {
      "cell_type": "code",
      "metadata": {
        "colab": {
          "base_uri": "https://localhost:8080/"
        },
        "id": "_pGO9jPvOr8K",
        "outputId": "d1df0d76-589d-422d-f7e4-52c9dc4bcd48"
      },
      "source": [
        "val_ds = tf.keras.utils.image_dataset_from_directory(\n",
        "  data_dir,\n",
        "  labels = None,\n",
        "  validation_split=0,\n",
        "  seed=123,\n",
        "  image_size=(img_height, img_width),\n",
        "  batch_size=batch_size)"
      ],
      "execution_count": 6,
      "outputs": [
        {
          "output_type": "stream",
          "name": "stdout",
          "text": [
            "Found 100 files belonging to 1 classes.\n"
          ]
        }
      ]
    },
    {
      "cell_type": "code",
      "metadata": {
        "id": "WuZ-FBeQj3Bj"
      },
      "source": [
        "x_val = np.concatenate([x for x in val_ds], axis=0)\n",
        "x_val = x_val.astype('float32') / 255."
      ],
      "execution_count": 7,
      "outputs": []
    },
    {
      "cell_type": "code",
      "metadata": {
        "id": "_-M7I5m9Owx-"
      },
      "source": [
        "latent_dim = 128 \n",
        "\n",
        "class Autoencoder(Model):\n",
        "  def __init__(self, latent_dim):\n",
        "    super(Autoencoder, self).__init__()\n",
        "    self.latent_dim = latent_dim   \n",
        "    self.encoder = tf.keras.Sequential([\n",
        "      layers.Flatten(),\n",
        "      layers.Dense(128, activation='relu'),\n",
        "    ])\n",
        "    self.decoder = tf.keras.Sequential([\n",
        "      layers.Dense(2352, activation='sigmoid'),\n",
        "      layers.Reshape((28, 28, 3))\n",
        "    ])\n",
        "\n",
        "  def call(self, x):\n",
        "    encoded = self.encoder(x)\n",
        "    decoded = self.decoder(encoded)\n",
        "    return decoded\n",
        "  \n",
        "autoencoder = Autoencoder(latent_dim) "
      ],
      "execution_count": 8,
      "outputs": []
    },
    {
      "cell_type": "code",
      "metadata": {
        "id": "YrK1-tkIWPYP"
      },
      "source": [
        "autoencoder.compile(optimizer='adam', loss=losses.MeanSquaredError())"
      ],
      "execution_count": 9,
      "outputs": []
    },
    {
      "cell_type": "code",
      "metadata": {
        "colab": {
          "base_uri": "https://localhost:8080/"
        },
        "id": "r1Wait1GJNWm",
        "outputId": "39c096f1-e77c-4223-83f2-393e1ab5c452"
      },
      "source": [
        "mnist = tf.keras.datasets.mnist\n",
        "(X_train, Y_train), (X_test, Y_test) = mnist.load_data()\n",
        "\n",
        "import numpy as np\n",
        "\n",
        "train_mask = np.isin(Y_train, [1, 2])\n",
        "test_mask = np.isin(Y_test, [1, 2])\n",
        "\n",
        "print(len(X_train))\n",
        "\n",
        "X_train = X_train[train_mask]\n",
        "X_test = X_test[test_mask]\n",
        "\n",
        "X_train = X_train / 255.\n",
        "\n",
        "\n",
        "# Set reshaped array to X \n",
        "X_train = X_train.reshape(len(X_train), 28, 28, 1)\n",
        "\n",
        "# Convert images and store them in X3\n",
        "X3 = tf.image.grayscale_to_rgb(\n",
        "    tf.convert_to_tensor(X_train)\n",
        ")\n",
        "\n",
        "X_test = X_test / 255.\n",
        "\n",
        "# Set reshaped array to X \n",
        "X_test = X_test.reshape((len(X_test), 28, 28, 1))\n",
        "\n",
        "# Convert images and store them in X3\n",
        "X4 = tf.image.grayscale_to_rgb(\n",
        "    tf.convert_to_tensor(X_test)\n",
        ")\n",
        "print(len(X_test))"
      ],
      "execution_count": 10,
      "outputs": [
        {
          "output_type": "stream",
          "name": "stdout",
          "text": [
            "60000\n",
            "2167\n"
          ]
        }
      ]
    },
    {
      "cell_type": "code",
      "metadata": {
        "colab": {
          "base_uri": "https://localhost:8080/"
        },
        "id": "CWPq1aiSeyUH",
        "outputId": "61fecc7a-7c9e-416e-bcd3-a55d1b5ee222"
      },
      "source": [
        "autoencoder.fit(X3, X3,validation_data=(X4, X4),\n",
        "                epochs=20)"
      ],
      "execution_count": 11,
      "outputs": [
        {
          "output_type": "stream",
          "name": "stdout",
          "text": [
            "Epoch 1/20\n",
            "397/397 [==============================] - 4s 9ms/step - loss: 0.0311 - val_loss: 0.0142\n",
            "Epoch 2/20\n",
            "397/397 [==============================] - 3s 8ms/step - loss: 0.0109 - val_loss: 0.0080\n",
            "Epoch 3/20\n",
            "397/397 [==============================] - 3s 8ms/step - loss: 0.0070 - val_loss: 0.0059\n",
            "Epoch 4/20\n",
            "397/397 [==============================] - 3s 8ms/step - loss: 0.0052 - val_loss: 0.0046\n",
            "Epoch 5/20\n",
            "397/397 [==============================] - 3s 8ms/step - loss: 0.0041 - val_loss: 0.0039\n",
            "Epoch 6/20\n",
            "397/397 [==============================] - 3s 8ms/step - loss: 0.0035 - val_loss: 0.0034\n",
            "Epoch 7/20\n",
            "397/397 [==============================] - 3s 8ms/step - loss: 0.0030 - val_loss: 0.0031\n",
            "Epoch 8/20\n",
            "397/397 [==============================] - 3s 8ms/step - loss: 0.0027 - val_loss: 0.0028\n",
            "Epoch 9/20\n",
            "397/397 [==============================] - 3s 8ms/step - loss: 0.0025 - val_loss: 0.0026\n",
            "Epoch 10/20\n",
            "397/397 [==============================] - 3s 8ms/step - loss: 0.0023 - val_loss: 0.0025\n",
            "Epoch 11/20\n",
            "397/397 [==============================] - 3s 8ms/step - loss: 0.0022 - val_loss: 0.0023\n",
            "Epoch 12/20\n",
            "397/397 [==============================] - 3s 8ms/step - loss: 0.0020 - val_loss: 0.0022\n",
            "Epoch 13/20\n",
            "397/397 [==============================] - 3s 8ms/step - loss: 0.0019 - val_loss: 0.0022\n",
            "Epoch 14/20\n",
            "397/397 [==============================] - 3s 8ms/step - loss: 0.0018 - val_loss: 0.0020\n",
            "Epoch 15/20\n",
            "397/397 [==============================] - 3s 8ms/step - loss: 0.0018 - val_loss: 0.0020\n",
            "Epoch 16/20\n",
            "397/397 [==============================] - 3s 8ms/step - loss: 0.0017 - val_loss: 0.0019\n",
            "Epoch 17/20\n",
            "397/397 [==============================] - 3s 9ms/step - loss: 0.0017 - val_loss: 0.0019\n",
            "Epoch 18/20\n",
            "397/397 [==============================] - 3s 8ms/step - loss: 0.0016 - val_loss: 0.0018\n",
            "Epoch 19/20\n",
            "397/397 [==============================] - 3s 8ms/step - loss: 0.0016 - val_loss: 0.0018\n",
            "Epoch 20/20\n",
            "397/397 [==============================] - 3s 8ms/step - loss: 0.0015 - val_loss: 0.0018\n"
          ]
        },
        {
          "output_type": "execute_result",
          "data": {
            "text/plain": [
              "<keras.callbacks.History at 0x7f2a0f813390>"
            ]
          },
          "metadata": {},
          "execution_count": 11
        }
      ]
    },
    {
      "cell_type": "code",
      "metadata": {
        "id": "Svd5C9Lhe7rj"
      },
      "source": [
        "encoded_imgs = autoencoder.encoder(x_val).numpy()\n",
        "decoded_imgs = autoencoder.decoder(encoded_imgs).numpy()"
      ],
      "execution_count": 12,
      "outputs": []
    },
    {
      "cell_type": "code",
      "metadata": {
        "colab": {
          "base_uri": "https://localhost:8080/",
          "height": 260
        },
        "id": "s9qNyhOvorcB",
        "outputId": "d04a9b6b-aacd-489d-dd88-50170f8b8931"
      },
      "source": [
        "n = 10\n",
        "plt.figure(figsize=(20, 4))\n",
        "for i in range(n):\n",
        "  # display original\n",
        "  ax = plt.subplot(2, n, i + 1)\n",
        "  plt.imshow(x_val[i+50])\n",
        "  plt.title(\"original\")\n",
        "  ax.get_xaxis().set_visible(False)\n",
        "  ax.get_yaxis().set_visible(False)\n",
        "\n",
        "  # display reconstruction\n",
        "  ax = plt.subplot(2, n, i + 1 + n)\n",
        "  plt.imshow(decoded_imgs[i+50])\n",
        "  plt.title(\"reconstructed\")\n",
        "  ax.get_xaxis().set_visible(False)\n",
        "  ax.get_yaxis().set_visible(False)\n",
        "plt.show()"
      ],
      "execution_count": 28,
      "outputs": [
        {
          "output_type": "display_data",
          "data": {
            "image/png": "[encoded data removed]",
            "text/plain": [
              "<Figure size 1440x288 with 20 Axes>"
            ]
          },
          "metadata": {
            "needs_background": "light"
          }
        }
      ]
    },
    {
      "cell_type": "code",
      "metadata": {
        "id": "yMnWQGK2xfs8"
      },
      "source": [
        "encoded_data = autoencoder.encoder(x_val).numpy()\n",
        "decoded_data = autoencoder.decoder(encoded_data).numpy()"
      ],
      "execution_count": 14,
      "outputs": []
    },
    {
      "cell_type": "code",
      "metadata": {
        "id": "MTCtDqerp5_J"
      },
      "source": [
        "reconstructions = autoencoder.predict(x_val)\n",
        "train_loss = tf.keras.losses.mae(reconstructions, x_val)"
      ],
      "execution_count": 15,
      "outputs": []
    },
    {
      "cell_type": "code",
      "metadata": {
        "id": "L9QE7sMCshjC"
      },
      "source": [
        "loss = tf.reduce_sum(train_loss, 2).numpy()"
      ],
      "execution_count": 16,
      "outputs": []
    },
    {
      "cell_type": "code",
      "metadata": {
        "id": "OR44C_KfvevS"
      },
      "source": [
        "loss = loss.sum(axis=1)"
      ],
      "execution_count": 17,
      "outputs": []
    },
    {
      "cell_type": "code",
      "metadata": {
        "id": "0UgNWGfEzCJO"
      },
      "source": [
        "indices = (-loss).argsort()[0:20]"
      ],
      "execution_count": 21,
      "outputs": []
    },
    {
      "cell_type": "code",
      "metadata": {
        "colab": {
          "base_uri": "https://localhost:8080/"
        },
        "id": "I4AJN20P2RHr",
        "outputId": "a584e988-958c-4a05-8eed-1176087e17a9"
      },
      "source": [
        "indices"
      ],
      "execution_count": 22,
      "outputs": [
        {
          "output_type": "execute_result",
          "data": {
            "text/plain": [
              "array([60, 76, 46, 29,  3, 10, 24,  0, 55,  6, 78, 27, 32, 20, 52, 31, 26,\n",
              "       95, 16, 35])"
            ]
          },
          "metadata": {},
          "execution_count": 22
        }
      ]
    },
    {
      "cell_type": "code",
      "metadata": {
        "colab": {
          "base_uri": "https://localhost:8080/",
          "height": 260
        },
        "id": "Bfz52l22zNWv",
        "outputId": "6f1e8713-0d23-418a-e7d0-0058d652b6d9"
      },
      "source": [
        "n = 100\n",
        "t=1\n",
        "plt.figure(figsize=(20, 4))\n",
        "for i in indices:\n",
        "  # display reconstruction\n",
        "    \n",
        "  ax = plt.subplot(2, 10, t)\n",
        "\n",
        "  plt.imshow(x_val[i])\n",
        "  plt.title(\"anomaly\")\n",
        "  ax.get_xaxis().set_visible(False)\n",
        "  ax.get_yaxis().set_visible(False)\n",
        "  t+=1\n",
        "plt.show()"
      ],
      "execution_count": 23,
      "outputs": [
        {
          "output_type": "display_data",
          "data": {
            "image/png": "[encoded data removed]",
            "text/plain": [
              "<Figure size 1440x288 with 20 Axes>"
            ]
          },
          "metadata": {
            "needs_background": "light"
          }
        }
      ]
    },
    {
      "cell_type": "code",
      "metadata": {
        "colab": {
          "base_uri": "https://localhost:8080/"
        },
        "id": "WCSRXC6yz6vX",
        "outputId": "f4ac05af-56a3-4f0d-8c4f-241e140972ff"
      },
      "source": [
        "loss[indices]"
      ],
      "execution_count": 24,
      "outputs": [
        {
          "output_type": "execute_result",
          "data": {
            "text/plain": [
              "array([444.7636  , 423.2162  , 414.1418  , 394.1075  , 379.54968 ,\n",
              "       314.4908  , 271.94443 , 185.92706 , 146.56766 ,  77.604355,\n",
              "        19.83653 ,  19.743391,  19.44361 ,  19.168915,  18.609058,\n",
              "        17.217167,  16.924747,  16.709694,  16.614084,  16.360296],\n",
              "      dtype=float32)"
            ]
          },
          "metadata": {},
          "execution_count": 24
        }
      ]
    },
    {
      "cell_type": "code",
      "metadata": {
        "id": "56twd-A9kRGo"
      },
      "source": [
        ""
      ],
      "execution_count": null,
      "outputs": []
    }
  ]
}