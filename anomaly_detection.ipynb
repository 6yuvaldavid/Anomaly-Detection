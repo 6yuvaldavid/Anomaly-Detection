{
  "nbformat": 4,
  "nbformat_minor": 0,
  "metadata": {
    "colab": {
      "name": "anomaly_detection.ipynb",
      "provenance": [],
      "collapsed_sections": [],
      "authorship_tag": "ABX9TyNqzA/Gx5zD1cWwumQxAL5a",
      "include_colab_link": true
    },
    "kernelspec": {
      "name": "python3",
      "display_name": "Python 3"
    },
    "language_info": {
      "name": "python"
    }
  },
  "cells": [
    {
      "cell_type": "markdown",
      "metadata": {
        "id": "view-in-github",
        "colab_type": "text"
      },
      "source": [
        "<a href=\"https://colab.research.google.com/github/6yuvaldavid/Anomaly-Detection/blob/main/anomaly_detection.ipynb\" target=\"_parent\"><img src=\"https://colab.research.google.com/assets/colab-badge.svg\" alt=\"Open In Colab\"/></a>"
      ]
    },
    {
      "cell_type": "code",
      "metadata": {
        "id": "UMs1ZxakL5li"
      },
      "source": [
        "import numpy as np\n",
        "import pandas as pd\n",
        "import tensorflow as tf\n",
        "import matplotlib.pyplot as plt\n",
        "from sklearn.metrics import accuracy_score, precision_score, recall_score\n",
        "from tensorflow.keras.optimizers import Adam\n",
        "from sklearn.preprocessing import MinMaxScaler\n",
        "from tensorflow.keras import Model, Sequential\n",
        "from tensorflow.keras.layers import Dense, Dropout\n",
        "from sklearn.model_selection import train_test_split\n",
        "from tensorflow.keras.losses import MeanSquaredLogarithmicError\n",
        "import os\n",
        "import PIL\n",
        "import PIL.Image\n",
        "import tensorflow_datasets as tfds\n",
        "\n",
        "%matplotlib inline\n",
        "from tensorflow.keras import layers, losses\n",
        "from tensorflow.keras.models import Model"
      ],
      "execution_count": 1,
      "outputs": []
    },
    {
      "cell_type": "code",
      "metadata": {
        "id": "h6wNPlZnRmqq"
      },
      "source": [
        "img_height = 28\n",
        "img_width = 28\n",
        "batch_size = 30"
      ],
      "execution_count": 2,
      "outputs": []
    },
    {
      "cell_type": "markdown",
      "metadata": {
        "id": "-nV4q_JMRSHq"
      },
      "source": [
        "### Loading the data"
      ]
    },
    {
      "cell_type": "code",
      "metadata": {
        "id": "8EvT_Q1bMJMP"
      },
      "source": [
        "import pathlib\n",
        "data_dir = 'data'\n",
        "data_dir = pathlib.Path(data_dir)"
      ],
      "execution_count": 3,
      "outputs": []
    },
    {
      "cell_type": "code",
      "metadata": {
        "colab": {
          "base_uri": "https://localhost:8080/"
        },
        "id": "g9UCIpeTNbRM",
        "outputId": "402aed45-6a90-4c36-ba0a-c42e728109d7"
      },
      "source": [
        "image_count = len(list(data_dir.glob('*.png')))\n",
        "print(image_count)"
      ],
      "execution_count": 4,
      "outputs": [
        {
          "output_type": "stream",
          "name": "stdout",
          "text": [
            "100\n"
          ]
        }
      ]
    },
    {
      "cell_type": "code",
      "metadata": {
        "colab": {
          "base_uri": "https://localhost:8080/",
          "height": 45
        },
        "id": "c8elLHALNezj",
        "outputId": "1b97400e-a435-4d0a-f38a-eda9fb02a38d"
      },
      "source": [
        "roses = list(data_dir.glob('*.png'))\n",
        "PIL.Image.open(str(roses[1]))"
      ],
      "execution_count": 5,
      "outputs": [
        {
          "output_type": "execute_result",
          "data": {
            "image/png": "[encoded data removed]",
            "text/plain": [
              "<PIL.PngImagePlugin.PngImageFile image mode=L size=28x28 at 0x7F293F2050D0>"
            ]
          },
          "metadata": {},
          "execution_count": 5
        }
      ]
    },
    {
      "cell_type": "markdown",
      "metadata": {
        "id": "bLx1UUu2RYGh"
      },
      "source": [
        "### preprocessing the data, i.e scale it by 255 and load the minst data with the 1,2 digits also preprocess it to match our data"
      ]
    },
    {
      "cell_type": "code",
      "metadata": {
        "colab": {
          "base_uri": "https://localhost:8080/"
        },
        "id": "_pGO9jPvOr8K",
        "outputId": "dd6e830d-d9b9-4b70-8e2e-05c7d5d0bff9"
      },
      "source": [
        "val_ds = tf.keras.utils.image_dataset_from_directory(\n",
        "  data_dir,\n",
        "  labels = None,\n",
        "  validation_split=0,\n",
        "  seed=123,\n",
        "  image_size=(img_height, img_width),\n",
        "  batch_size=batch_size)"
      ],
      "execution_count": 6,
      "outputs": [
        {
          "output_type": "stream",
          "name": "stdout",
          "text": [
            "Found 100 files belonging to 1 classes.\n"
          ]
        }
      ]
    },
    {
      "cell_type": "code",
      "metadata": {
        "id": "WuZ-FBeQj3Bj"
      },
      "source": [
        "x_test = np.concatenate([x for x in val_ds], axis=0)\n",
        "x_test = x_test.astype('float32') / 255."
      ],
      "execution_count": 7,
      "outputs": []
    },
    {
      "cell_type": "code",
      "metadata": {
        "colab": {
          "base_uri": "https://localhost:8080/"
        },
        "id": "VKkHoy6KRi5j",
        "outputId": "e649f216-787e-4f2b-8486-db3c4aeceba7"
      },
      "source": [
        "mnist = tf.keras.datasets.mnist\n",
        "(X_train, Y_train), (X_val, Y_val) = mnist.load_data()\n",
        "\n",
        "import numpy as np\n",
        "\n",
        "train_mask = np.isin(Y_train, [1, 2])\n",
        "test_mask = np.isin(Y_val, [1, 2])\n",
        "\n",
        "print(len(X_train))\n",
        "\n",
        "X_train = X_train[train_mask]\n",
        "X_val = X_val[test_mask]\n",
        "\n",
        "X_train = X_train / 255.\n",
        "\n",
        "\n",
        "# Set reshaped array to X \n",
        "X_train = X_train.reshape(len(X_train), 28, 28, 1)\n",
        "\n",
        "# Convert images and store them\n",
        "X_train = tf.image.grayscale_to_rgb(\n",
        "    tf.convert_to_tensor(X_train)\n",
        ")\n",
        "\n",
        "X_val = X_val / 255.\n",
        "\n",
        "# Set reshaped array to X \n",
        "X_val = X_val.reshape((len(X_val), 28, 28, 1))\n",
        "\n",
        "# Convert images and store them\n",
        "X_val = tf.image.grayscale_to_rgb(\n",
        "    tf.convert_to_tensor(X_val)\n",
        ")\n",
        "print(len(X_val))"
      ],
      "execution_count": 8,
      "outputs": [
        {
          "output_type": "stream",
          "name": "stdout",
          "text": [
            "60000\n",
            "2167\n"
          ]
        }
      ]
    },
    {
      "cell_type": "markdown",
      "metadata": {
        "id": "TLERo4LuRtCM"
      },
      "source": [
        "### create and train the model"
      ]
    },
    {
      "cell_type": "code",
      "metadata": {
        "id": "_-M7I5m9Owx-"
      },
      "source": [
        "latent_dim = 128 \n",
        "\n",
        "class Autoencoder(Model):\n",
        "  def __init__(self, latent_dim):\n",
        "    super(Autoencoder, self).__init__()\n",
        "    self.latent_dim = latent_dim   \n",
        "    self.encoder = tf.keras.Sequential([\n",
        "      layers.Flatten(),\n",
        "      layers.Dense(128, activation='relu'),\n",
        "    ])\n",
        "    self.decoder = tf.keras.Sequential([\n",
        "      layers.Dense(2352, activation='sigmoid'),\n",
        "      layers.Reshape((28, 28, 3))\n",
        "    ])\n",
        "\n",
        "  def call(self, x):\n",
        "    encoded = self.encoder(x)\n",
        "    decoded = self.decoder(encoded)\n",
        "    return decoded\n",
        "  \n",
        "autoencoder = Autoencoder(latent_dim) "
      ],
      "execution_count": 9,
      "outputs": []
    },
    {
      "cell_type": "code",
      "metadata": {
        "id": "YrK1-tkIWPYP"
      },
      "source": [
        "autoencoder.compile(optimizer='adam', loss=losses.MeanSquaredError())"
      ],
      "execution_count": 10,
      "outputs": []
    },
    {
      "cell_type": "code",
      "metadata": {
        "colab": {
          "base_uri": "https://localhost:8080/"
        },
        "id": "CWPq1aiSeyUH",
        "outputId": "92259ec2-ce80-489a-a985-33500a07308f"
      },
      "source": [
        "autoencoder.fit(X_train, X_train,validation_data=(X_val, X_val),\n",
        "                epochs=20)"
      ],
      "execution_count": 11,
      "outputs": [
        {
          "output_type": "stream",
          "name": "stdout",
          "text": [
            "Epoch 1/20\n",
            "397/397 [==============================] - 5s 11ms/step - loss: 0.0307 - val_loss: 0.0134\n",
            "Epoch 2/20\n",
            "397/397 [==============================] - 4s 10ms/step - loss: 0.0106 - val_loss: 0.0081\n",
            "Epoch 3/20\n",
            "397/397 [==============================] - 4s 10ms/step - loss: 0.0069 - val_loss: 0.0058\n",
            "Epoch 4/20\n",
            "397/397 [==============================] - 4s 10ms/step - loss: 0.0052 - val_loss: 0.0046\n",
            "Epoch 5/20\n",
            "397/397 [==============================] - 4s 10ms/step - loss: 0.0042 - val_loss: 0.0039\n",
            "Epoch 6/20\n",
            "397/397 [==============================] - 4s 10ms/step - loss: 0.0035 - val_loss: 0.0034\n",
            "Epoch 7/20\n",
            "397/397 [==============================] - 4s 10ms/step - loss: 0.0031 - val_loss: 0.0031\n",
            "Epoch 8/20\n",
            "397/397 [==============================] - 4s 10ms/step - loss: 0.0027 - val_loss: 0.0027\n",
            "Epoch 9/20\n",
            "397/397 [==============================] - 4s 10ms/step - loss: 0.0025 - val_loss: 0.0026\n",
            "Epoch 10/20\n",
            "397/397 [==============================] - 4s 10ms/step - loss: 0.0023 - val_loss: 0.0024\n",
            "Epoch 11/20\n",
            "397/397 [==============================] - 4s 10ms/step - loss: 0.0021 - val_loss: 0.0023\n",
            "Epoch 12/20\n",
            "397/397 [==============================] - 4s 10ms/step - loss: 0.0020 - val_loss: 0.0022\n",
            "Epoch 13/20\n",
            "397/397 [==============================] - 4s 10ms/step - loss: 0.0019 - val_loss: 0.0021\n",
            "Epoch 14/20\n",
            "397/397 [==============================] - 4s 10ms/step - loss: 0.0018 - val_loss: 0.0020\n",
            "Epoch 15/20\n",
            "397/397 [==============================] - 4s 9ms/step - loss: 0.0017 - val_loss: 0.0020\n",
            "Epoch 16/20\n",
            "397/397 [==============================] - 4s 10ms/step - loss: 0.0017 - val_loss: 0.0019\n",
            "Epoch 17/20\n",
            "397/397 [==============================] - 4s 10ms/step - loss: 0.0016 - val_loss: 0.0019\n",
            "Epoch 18/20\n",
            "397/397 [==============================] - 4s 10ms/step - loss: 0.0016 - val_loss: 0.0019\n",
            "Epoch 19/20\n",
            "397/397 [==============================] - 4s 10ms/step - loss: 0.0015 - val_loss: 0.0018\n",
            "Epoch 20/20\n",
            "397/397 [==============================] - 4s 10ms/step - loss: 0.0015 - val_loss: 0.0017\n"
          ]
        },
        {
          "output_type": "execute_result",
          "data": {
            "text/plain": [
              "<keras.callbacks.History at 0x7f293fa88490>"
            ]
          },
          "metadata": {},
          "execution_count": 11
        }
      ]
    },
    {
      "cell_type": "markdown",
      "metadata": {
        "id": "agR7ogJTRxQs"
      },
      "source": [
        "### Test our model for 10 example from the unused test test"
      ]
    },
    {
      "cell_type": "code",
      "metadata": {
        "id": "Svd5C9Lhe7rj"
      },
      "source": [
        "encoded_imgs = autoencoder.encoder(x_test).numpy()\n",
        "decoded_imgs = autoencoder.decoder(encoded_imgs).numpy()"
      ],
      "execution_count": 12,
      "outputs": []
    },
    {
      "cell_type": "code",
      "metadata": {
        "colab": {
          "base_uri": "https://localhost:8080/",
          "height": 260
        },
        "id": "s9qNyhOvorcB",
        "outputId": "238997ab-2f6f-4933-9b05-9acf36accbce"
      },
      "source": [
        "n = 10\n",
        "plt.figure(figsize=(20, 4))\n",
        "for i in range(n):\n",
        "  # display original\n",
        "  ax = plt.subplot(2, n, i + 1)\n",
        "  plt.imshow(x_test[i+50])\n",
        "  plt.title(\"original\")\n",
        "  ax.get_xaxis().set_visible(False)\n",
        "  ax.get_yaxis().set_visible(False)\n",
        "\n",
        "  # display reconstruction\n",
        "  ax = plt.subplot(2, n, i + 1 + n)\n",
        "  plt.imshow(decoded_imgs[i+50])\n",
        "  plt.title(\"reconstructed\")\n",
        "  ax.get_xaxis().set_visible(False)\n",
        "  ax.get_yaxis().set_visible(False)\n",
        "plt.show()"
      ],
      "execution_count": 13,
      "outputs": [
        {
          "output_type": "display_data",
          "data": {
            "image/png": "[encoded data removed]",
            "text/plain": [
              "<Figure size 1440x288 with 20 Axes>"
            ]
          },
          "metadata": {
            "needs_background": "light"
          }
        }
      ]
    },
    {
      "cell_type": "markdown",
      "metadata": {
        "id": "rJV-sx4USjn0"
      },
      "source": [
        "### Find the reconstruction error rate"
      ]
    },
    {
      "cell_type": "code",
      "metadata": {
        "id": "yMnWQGK2xfs8"
      },
      "source": [
        "encoded_data = autoencoder.encoder(x_test).numpy()\n",
        "decoded_data = autoencoder.decoder(encoded_data).numpy()"
      ],
      "execution_count": 14,
      "outputs": []
    },
    {
      "cell_type": "code",
      "metadata": {
        "id": "MTCtDqerp5_J"
      },
      "source": [
        "reconstructions = autoencoder.predict(x_test)\n",
        "train_loss = tf.keras.losses.mae(reconstructions, x_test)"
      ],
      "execution_count": 15,
      "outputs": []
    },
    {
      "cell_type": "code",
      "metadata": {
        "id": "L9QE7sMCshjC"
      },
      "source": [
        "loss = tf.reduce_sum(train_loss, 2).numpy()"
      ],
      "execution_count": 16,
      "outputs": []
    },
    {
      "cell_type": "code",
      "metadata": {
        "id": "OR44C_KfvevS"
      },
      "source": [
        "loss = loss.sum(axis=1)"
      ],
      "execution_count": 17,
      "outputs": []
    },
    {
      "cell_type": "code",
      "metadata": {
        "id": "0UgNWGfEzCJO"
      },
      "source": [
        "indices = (-loss).argsort()[0:20]"
      ],
      "execution_count": 18,
      "outputs": []
    },
    {
      "cell_type": "code",
      "metadata": {
        "colab": {
          "base_uri": "https://localhost:8080/"
        },
        "id": "I4AJN20P2RHr",
        "outputId": "af89cba7-c8d6-40da-f846-f46ffb0872a0"
      },
      "source": [
        "indices"
      ],
      "execution_count": 19,
      "outputs": [
        {
          "output_type": "execute_result",
          "data": {
            "text/plain": [
              "array([60, 76, 46, 29,  3, 10, 24,  0, 55,  6, 27, 32, 78, 31, 72, 26, 52,\n",
              "       18, 93, 86])"
            ]
          },
          "metadata": {},
          "execution_count": 19
        }
      ]
    },
    {
      "cell_type": "code",
      "metadata": {
        "colab": {
          "base_uri": "https://localhost:8080/",
          "height": 255
        },
        "id": "Bfz52l22zNWv",
        "outputId": "07356afb-c18e-4c46-fde8-bd6699a23597"
      },
      "source": [
        "n = 100\n",
        "t=1\n",
        "plt.figure(figsize=(20, 4))\n",
        "for i in indices:\n",
        "  # display reconstruction\n",
        "    \n",
        "  ax = plt.subplot(2, 10, t)\n",
        "\n",
        "  plt.imshow(x_test[i])\n",
        "  plt.title(\"suspected anomaly\")\n",
        "  ax.get_xaxis().set_visible(False)\n",
        "  ax.get_yaxis().set_visible(False)\n",
        "  t+=1\n",
        "plt.show()"
      ],
      "execution_count": 20,
      "outputs": [
        {
          "output_type": "display_data",
          "data": {
            "image/png": "[encoded data removed]",
            "text/plain": [
              "<Figure size 1440x288 with 20 Axes>"
            ]
          },
          "metadata": {
            "needs_background": "light"
          }
        }
      ]
    },
    {
      "cell_type": "code",
      "metadata": {
        "colab": {
          "base_uri": "https://localhost:8080/"
        },
        "id": "WCSRXC6yz6vX",
        "outputId": "e0add1ac-96c6-403c-b8db-65d000d3b6e3"
      },
      "source": [
        "loss[indices]"
      ],
      "execution_count": 21,
      "outputs": [
        {
          "output_type": "execute_result",
          "data": {
            "text/plain": [
              "array([453.80035 , 427.02252 , 423.00864 , 401.02402 , 387.43637 ,\n",
              "       316.42087 , 275.8804  , 183.92429 , 149.27396 ,  79.99257 ,\n",
              "        20.977215,  19.528938,  18.152393,  18.104542,  17.081572,\n",
              "        16.922825,  16.380024,  16.376108,  15.821573,  15.623974],\n",
              "      dtype=float32)"
            ]
          },
          "metadata": {},
          "execution_count": 21
        }
      ]
    },
    {
      "cell_type": "markdown",
      "metadata": {
        "id": "TbFiHj_DSopK"
      },
      "source": [
        "### so as we can see our minst construction error is at max 20 while the anomalies are at min 70 so we say that if the error is above 45 we will label it as anomaly"
      ]
    },
    {
      "cell_type": "code",
      "metadata": {
        "id": "56twd-A9kRGo"
      },
      "source": [
        "errors_indices = loss > 45"
      ],
      "execution_count": 22,
      "outputs": []
    },
    {
      "cell_type": "code",
      "metadata": {
        "colab": {
          "base_uri": "https://localhost:8080/",
          "height": 142
        },
        "id": "KH89ugCWRFXP",
        "outputId": "a791f00b-311c-49d3-af97-4b30f28aa14d"
      },
      "source": [
        "n = 100\n",
        "t=1\n",
        "plt.figure(figsize=(20, 4))\n",
        "for image in x_test[errors_indices]:\n",
        "  # display reconstruction\n",
        "    \n",
        "  ax = plt.subplot(2, 10, t)\n",
        "\n",
        "  plt.imshow(image)\n",
        "  plt.title(\"anomaly\")\n",
        "  ax.get_xaxis().set_visible(False)\n",
        "  ax.get_yaxis().set_visible(False)\n",
        "  t+=1\n",
        "plt.show()"
      ],
      "execution_count": 23,
      "outputs": [
        {
          "output_type": "display_data",
          "data": {
            "image/png": "[encoded data removed]",
            "text/plain": [
              "<Figure size 1440x288 with 10 Axes>"
            ]
          },
          "metadata": {
            "needs_background": "light"
          }
        }
      ]
    },
    {
      "cell_type": "markdown",
      "metadata": {
        "id": "tnTwpTP4UZl1"
      },
      "source": [
        "### as we can see we deteced all the anomlies time to test it with new unseen data to check if our threshold (of 45) holds"
      ]
    }
  ]
}